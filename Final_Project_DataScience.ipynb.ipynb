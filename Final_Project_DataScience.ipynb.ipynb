{
  "metadata": {
    "kernelspec": {
      "name": "python",
      "display_name": "Python (Pyodide)",
      "language": "python"
    },
    "language_info": {
      "codemirror_mode": {
        "name": "python",
        "version": 3
      },
      "file_extension": ".py",
      "mimetype": "text/x-python",
      "name": "python",
      "nbconvert_exporter": "python",
      "pygments_lexer": "ipython3",
      "version": "3.8"
    }
  },
  "nbformat_minor": 4,
  "nbformat": 4,
  "cells": [
    {
      "cell_type": "markdown",
      "source": "# Final Project - Data Science Tools and Techniques\n",
      "metadata": {}
    },
    {
      "cell_type": "markdown",
      "source": "## Introduction\nThis notebook demonstrates some of the basic tools and techniques used in data science. It includes examples of programming languages, libraries, and simple code operations.\n",
      "metadata": {}
    },
    {
      "cell_type": "markdown",
      "source": "## Data Science Languages\n- Python  \n- R  \n- SQL  \n- Julia  \n",
      "metadata": {}
    },
    {
      "cell_type": "markdown",
      "source": "## Data Science Libraries\n- Pandas  \n- NumPy  \n- Matplotlib  \n- ggplot2  \n- Scikit-learn  \n",
      "metadata": {}
    },
    {
      "cell_type": "markdown",
      "source": "## Data Science Tools\n\n| Tool           | Category             |\n|----------------|----------------------|\n| Jupyter        | Notebook Environment |\n| RStudio        | IDE                  |\n| GitHub         | Version Control      |\n| Apache Spark   | Big Data Processing  |\n| TensorFlow     | Deep Learning        |\n",
      "metadata": {}
    },
    {
      "cell_type": "markdown",
      "source": "## Examples of Arithmetic Expressions\nBelow are examples of arithmetic operations such as addition and multiplication.\n",
      "metadata": {}
    },
    {
      "cell_type": "markdown",
      "source": "## Objectives\n- Understand basic Markdown formatting  \n- Use code cells in Jupyter  \n- Convert minutes into hours using Python  \n- Practice listing tools and libraries\n",
      "metadata": {}
    },
    {
      "cell_type": "markdown",
      "source": "**Author:** Sara Kiani\n",
      "metadata": {}
    },
    {
      "cell_type": "code",
      "source": "# This code multiplies and adds numbers\n(3 * 4) + 5\n",
      "metadata": {
        "trusted": true
      },
      "outputs": [
        {
          "execution_count": 3,
          "output_type": "execute_result",
          "data": {
            "text/plain": "17"
          },
          "metadata": {}
        }
      ],
      "execution_count": 3
    },
    {
      "cell_type": "code",
      "source": "# Convert minutes to hours\nminutes = 120\nhours = minutes / 60\nhours\n",
      "metadata": {
        "trusted": true
      },
      "outputs": [
        {
          "execution_count": 4,
          "output_type": "execute_result",
          "data": {
            "text/plain": "2.0"
          },
          "metadata": {}
        }
      ],
      "execution_count": 4
    },
    {
      "cell_type": "code",
      "source": "",
      "metadata": {
        "trusted": true
      },
      "outputs": [],
      "execution_count": null
    }
  ]
}